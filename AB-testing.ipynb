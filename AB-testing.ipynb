{
 "cells": [
  {
   "cell_type": "markdown",
   "id": "a0c22e94-68ec-4491-a7d1-954108369d33",
   "metadata": {},
   "source": [
    "### Проведение АА-тестирования между группами: период с 26.08.2025 по 01.09.2025"
   ]
  },
  {
   "cell_type": "code",
   "execution_count": null,
   "id": "893c020d-dde9-4da9-bc38-d28b4e61c2aa",
   "metadata": {},
   "outputs": [],
   "source": [
    "#Функция для сплитования \n",
    "def ab_split(id, salt='exp_mess_1', n_groups=5):\n",
    "    test_id = str(id) + '-' + str(salt)\n",
    "    test_id_digest = hashlib.md5(test_id.encode('ascii')).hexdigest()\n",
    "    test_id_final_int = int(test_id_digest, 16)\n",
    "    return test_id_final_int % n_groups"
   ]
  },
  {
   "cell_type": "code",
   "execution_count": 6,
   "id": "9147f1ab-c398-498a-a58b-3f52c3cbc1d9",
   "metadata": {},
   "outputs": [],
   "source": [
    "import pandahouse\n",
    "import swifter\n",
    "import hashlib\n",
    "import seaborn as sns\n",
    "import scipy.stats\n",
    "from scipy.stats import ttest_ind\n",
    "import numpy as np\n",
    "import matplotlib.pyplot as plt"
   ]
  },
  {
   "cell_type": "code",
   "execution_count": 7,
   "id": "f91fdf8f-4b5f-4b5f-8645-3f7f4d51ab5c",
   "metadata": {},
   "outputs": [
    {
     "data": {
      "application/json": {
       "ascii": false,
       "bar_format": null,
       "colour": null,
       "elapsed": 0.02885150909423828,
       "initial": 0,
       "n": 0,
       "ncols": null,
       "nrows": null,
       "postfix": null,
       "prefix": "Pandas Apply",
       "rate": null,
       "total": 41997,
       "unit": "it",
       "unit_divisor": 1000,
       "unit_scale": false
      },
      "application/vnd.jupyter.widget-view+json": {
       "model_id": "1b180268c15d40308ae1111e96f4794a",
       "version_major": 2,
       "version_minor": 0
      },
      "text/plain": [
       "Pandas Apply:   0%|          | 0/41997 [00:00<?, ?it/s]"
      ]
     },
     "metadata": {},
     "output_type": "display_data"
    },
    {
     "data": {
      "text/html": [
       "<div>\n",
       "<style scoped>\n",
       "    .dataframe tbody tr th:only-of-type {\n",
       "        vertical-align: middle;\n",
       "    }\n",
       "\n",
       "    .dataframe tbody tr th {\n",
       "        vertical-align: top;\n",
       "    }\n",
       "\n",
       "    .dataframe thead th {\n",
       "        text-align: right;\n",
       "    }\n",
       "</style>\n",
       "<table border=\"1\" class=\"dataframe\">\n",
       "  <thead>\n",
       "    <tr style=\"text-align: right;\">\n",
       "      <th></th>\n",
       "      <th>hash_group</th>\n",
       "      <th>user_id</th>\n",
       "    </tr>\n",
       "  </thead>\n",
       "  <tbody>\n",
       "    <tr>\n",
       "      <th>0</th>\n",
       "      <td>0</td>\n",
       "      <td>8588</td>\n",
       "    </tr>\n",
       "    <tr>\n",
       "      <th>1</th>\n",
       "      <td>1</td>\n",
       "      <td>8254</td>\n",
       "    </tr>\n",
       "    <tr>\n",
       "      <th>2</th>\n",
       "      <td>2</td>\n",
       "      <td>8397</td>\n",
       "    </tr>\n",
       "    <tr>\n",
       "      <th>3</th>\n",
       "      <td>3</td>\n",
       "      <td>8305</td>\n",
       "    </tr>\n",
       "    <tr>\n",
       "      <th>4</th>\n",
       "      <td>4</td>\n",
       "      <td>8453</td>\n",
       "    </tr>\n",
       "  </tbody>\n",
       "</table>\n",
       "</div>"
      ],
      "text/plain": [
       "   hash_group  user_id\n",
       "0           0     8588\n",
       "1           1     8254\n",
       "2           2     8397\n",
       "3           3     8305\n",
       "4           4     8453"
      ]
     },
     "execution_count": 7,
     "metadata": {},
     "output_type": "execute_result"
    }
   ],
   "source": [
    "connection = {\n",
    "    'host': 'https://clickhouse.lab.karpov.courses',\n",
    "    'password': 'dpo_python_2020',\n",
    "    'user': 'student',\n",
    "    'database': 'simulator_20250920'\n",
    "}\n",
    "\n",
    "q = \"\"\"\n",
    "SELECT distinct user_id\n",
    "FROM {db}.feed_actions \n",
    "WHERE toDate(time) >= '2025-08-26' and toDate(time) <= '2025-09-01' \n",
    "\"\"\"\n",
    "\n",
    "# Вытащили пользователей\n",
    "users_df = pandahouse.read_clickhouse(q, connection=connection)\n",
    "\n",
    "# Сделали группы\n",
    "users_df['hash_group'] = users_df.user_id.swifter.apply(ab_split)\n",
    "\n",
    "# Смотрим на число пользователей в каждой группе\n",
    "users_df.groupby('hash_group').user_id.nunique().reset_index()"
   ]
  },
  {
   "cell_type": "code",
   "execution_count": 8,
   "id": "a552076e-a6d1-47ef-a8db-b18d50b65ad2",
   "metadata": {},
   "outputs": [
    {
     "data": {
      "text/html": [
       "<div>\n",
       "<style scoped>\n",
       "    .dataframe tbody tr th:only-of-type {\n",
       "        vertical-align: middle;\n",
       "    }\n",
       "\n",
       "    .dataframe tbody tr th {\n",
       "        vertical-align: top;\n",
       "    }\n",
       "\n",
       "    .dataframe thead th {\n",
       "        text-align: right;\n",
       "    }\n",
       "</style>\n",
       "<table border=\"1\" class=\"dataframe\">\n",
       "  <thead>\n",
       "    <tr style=\"text-align: right;\">\n",
       "      <th></th>\n",
       "      <th>user_id</th>\n",
       "      <th>likes</th>\n",
       "      <th>views</th>\n",
       "      <th>ctr</th>\n",
       "    </tr>\n",
       "    <tr>\n",
       "      <th>exp_group</th>\n",
       "      <th></th>\n",
       "      <th></th>\n",
       "      <th></th>\n",
       "      <th></th>\n",
       "    </tr>\n",
       "  </thead>\n",
       "  <tbody>\n",
       "    <tr>\n",
       "      <th>2</th>\n",
       "      <td>8362</td>\n",
       "      <td>8362</td>\n",
       "      <td>8362</td>\n",
       "      <td>8362</td>\n",
       "    </tr>\n",
       "    <tr>\n",
       "      <th>3</th>\n",
       "      <td>8425</td>\n",
       "      <td>8425</td>\n",
       "      <td>8425</td>\n",
       "      <td>8425</td>\n",
       "    </tr>\n",
       "  </tbody>\n",
       "</table>\n",
       "</div>"
      ],
      "text/plain": [
       "           user_id  likes  views   ctr\n",
       "exp_group                             \n",
       "2             8362   8362   8362  8362\n",
       "3             8425   8425   8425  8425"
      ]
     },
     "execution_count": 8,
     "metadata": {},
     "output_type": "execute_result"
    }
   ],
   "source": [
    "#CTR в группах 2 и 3\n",
    "q = \"\"\"\n",
    "SELECT exp_group, \n",
    "    user_id,\n",
    "    sum(action = 'like') as likes,\n",
    "    sum(action = 'view') as views,\n",
    "    likes/views as ctr\n",
    "FROM {db}.feed_actions \n",
    "WHERE toDate(time) between '2025-08-26' and '2025-09-01'\n",
    "    and exp_group in (2,3)\n",
    "GROUP BY exp_group, user_id\n",
    "\"\"\"\n",
    "\n",
    "df = pandahouse.read_clickhouse(q, connection=connection)\n",
    "\n",
    "df.groupby('exp_group').count()"
   ]
  },
  {
   "cell_type": "code",
   "execution_count": 9,
   "id": "97e55dc2-2db1-4a9e-bc23-24a33fe999ac",
   "metadata": {},
   "outputs": [
    {
     "data": {
      "image/png": "[encoded data removed]",
      "text/plain": [
       "<Figure size 432x288 with 1 Axes>"
      ]
     },
     "metadata": {
      "needs_background": "light"
     },
     "output_type": "display_data"
    }
   ],
   "source": [
    "# Сделаем графики в seaborn покрупнее\n",
    "sns.set(rc={'figure.figsize':(11.7,8.27)})\n",
    "\n",
    "groups = sns.histplot(data = df, \n",
    "              x='ctr', \n",
    "              hue='exp_group', \n",
    "              palette = ['r', 'b'],\n",
    "              alpha=0.5,\n",
    "              kde=False)"
   ]
  },
  {
   "cell_type": "code",
   "execution_count": 10,
   "id": "87bfd37d-6818-4f13-81a2-e2664ff983e3",
   "metadata": {},
   "outputs": [
    {
     "name": "stdout",
     "output_type": "stream",
     "text": [
      "=== ПРОВЕРКА 1: Многократный t-test ===\n",
      "Доля статистически значимых результатов (p < 0.05): 0.0451 (4.51%)\n",
      "Количество значимых результатов: 451 из 10000\n"
     ]
    },
    {
     "data": {
      "image/png": "[encoded data removed]",
      "text/plain": [
       "<Figure size 864x360 with 1 Axes>"
      ]
     },
     "metadata": {
      "needs_background": "light"
     },
     "output_type": "display_data"
    }
   ],
   "source": [
    "import pandas as pd\n",
    "import numpy as np\n",
    "from scipy import stats\n",
    "import matplotlib.pyplot as plt\n",
    "\n",
    "print(\"=== ПРОВЕРКА 1: Многократный t-test ===\")\n",
    "p_values = []\n",
    "n_iterations = 10000\n",
    "sample_size = 500\n",
    "\n",
    "for i in range(n_iterations):\n",
    "    # Берем подвыборки без возвращения из предварительно отфильтрованных данных\n",
    "    sample_2 = df[df.exp_group == 2].ctr.sample(n=sample_size, replace=False, random_state=i)\n",
    "    sample_3 = df[df.exp_group == 3].ctr.sample(n=sample_size, replace=False, random_state=i+10000)\n",
    "    \n",
    "    # Проводим t-тест\n",
    "    t_stat, p_value = stats.ttest_ind(sample_2, sample_3, equal_var=False)\n",
    "    p_values.append(p_value)\n",
    "\n",
    "significant_results = sum(np.array(p_values) < 0.05)\n",
    "proportion_significant = significant_results / n_iterations\n",
    "\n",
    "plt.figure(figsize=(12, 5))\n",
    "plt.subplot(1, 2, 1)\n",
    "plt.hist(p_values, bins=50, alpha=0.7, color='skyblue', edgecolor='black')\n",
    "plt.axvline(x=0.05, color='red', linestyle='--', linewidth=2, label='Уровень значимости 0.05')\n",
    "plt.xlabel('p-value')\n",
    "plt.ylabel('Частота')\n",
    "plt.title('Распределение p-value в А/А-тесте\\n(10000 итераций)')\n",
    "plt.legend()\n",
    "plt.grid(alpha=0.3)\n",
    "\n",
    "print(f\"Доля статистически значимых результатов (p < 0.05): {proportion_significant:.4f} ({proportion_significant*100:.2f}%)\")\n",
    "print(f\"Количество значимых результатов: {significant_results} из {n_iterations}\")"
   ]
  },
  {
   "cell_type": "markdown",
   "id": "43c5730d-f439-4d6a-9e83-ca890d17383b",
   "metadata": {},
   "source": [
    "### Проведение АB-тестирования между группами 1 и 2: период с 02.09.2025 по 08.09.2025"
   ]
  },
  {
   "cell_type": "code",
   "execution_count": 11,
   "id": "8b5b9792-ff6d-4575-9222-64e5b1709c87",
   "metadata": {},
   "outputs": [
    {
     "data": {
      "text/plain": [
       "Ttest_indResult(statistic=0.4051491913112757, pvalue=0.685373331140751)"
      ]
     },
     "execution_count": 11,
     "metadata": {},
     "output_type": "execute_result"
    }
   ],
   "source": [
    "#Создали подключение\n",
    "connection = {\n",
    "    'host': 'https://clickhouse.lab.karpov.courses',\n",
    "    'password': 'dpo_python_2020',\n",
    "    'user': 'student',\n",
    "    'database': 'simulator_20250920'\n",
    "}\n",
    "\n",
    "q = \"\"\"\n",
    "SELECT exp_group, \n",
    "    user_id,\n",
    "    sum(action = 'like') as likes,\n",
    "    sum(action = 'view') as views,\n",
    "    likes/views as ctr\n",
    "FROM simulator_20250920.feed_actions \n",
    "WHERE toDate(time) between '2025-09-02' and '2025-09-08'\n",
    "    and exp_group in (1,2)\n",
    "GROUP BY exp_group, user_id\n",
    "\"\"\"\n",
    "\n",
    "df = pandahouse.read_clickhouse(q, connection=connection)\n",
    "\n",
    "#T-тест\n",
    "\n",
    "stats.ttest_ind(df[df.exp_group == 1].ctr,\n",
    "                df[df.exp_group == 2].ctr,\n",
    "                equal_var=False)"
   ]
  },
  {
   "cell_type": "markdown",
   "id": "737a7c97-97de-44a9-92dc-595c476db231",
   "metadata": {},
   "source": [
    "#### **Результаты**:\n",
    "* t-тест: p-value = 0.685 → по тесту нет значимых различий\n",
    "* t-тест может быть не значим, потому что:\n",
    "\n",
    "> * Предполагает нормальность распределения\n",
    "> * Чувствителен к выбросам\n",
    "> * CTR обычно имеет тяжелые хвосты и много нулей"
   ]
  },
  {
   "cell_type": "code",
   "execution_count": 58,
   "id": "e98aa4cf-0915-4b0f-ae9f-bef70d6dea73",
   "metadata": {},
   "outputs": [
    {
     "data": {
      "image/png": "[encoded data removed]",
      "text/plain": [
       "<Figure size 842.4x595.44 with 1 Axes>"
      ]
     },
     "metadata": {},
     "output_type": "display_data"
    }
   ],
   "source": [
    "groups = sns.histplot(data = df, \n",
    "              x='ctr', \n",
    "              hue='exp_group', \n",
    "              palette = ['r', 'b'],\n",
    "              alpha=0.5,\n",
    "              kde=False)"
   ]
  },
  {
   "cell_type": "markdown",
   "id": "c46b4064-616b-43f8-a50f-0b045131f9ac",
   "metadata": {},
   "source": [
    "#### **Выводы**:\n",
    "* распределения в группах действительно различаются на первый взгляд\n",
    "* также распределения на вид ненормальные, содержат выбросы и шумы, поэтому t-test, скорее всего, не имеет значимого эффекта. \n",
    "* для такого случая существует непараметрический тест - используем тест Манна-Уитни."
   ]
  },
  {
   "cell_type": "code",
   "execution_count": 59,
   "id": "53c8e547-58ae-43ea-aba3-2420d25167cb",
   "metadata": {},
   "outputs": [
    {
     "data": {
      "text/plain": [
       "MannwhitneyuResult(statistic=55189913.0, pvalue=4.632205841806026e-45)"
      ]
     },
     "execution_count": 59,
     "metadata": {},
     "output_type": "execute_result"
    }
   ],
   "source": [
    "stats.mannwhitneyu(df[df.exp_group == 1].ctr, \n",
    "                   df[df.exp_group == 2].ctr,\n",
    "                   alternative = 'two-sided')"
   ]
  },
  {
   "cell_type": "markdown",
   "id": "ca8ebafa-7f6c-4a78-a72e-d1abb74bc670",
   "metadata": {},
   "source": [
    "#### **Манн-Уитни значим, так как:**\n",
    "\n",
    "* Непараметрический тест\n",
    "\n",
    "* Работает с рангами, а не значениями\n",
    "\n",
    "* Устойчив к выбросам и ненормальным распределениям\n",
    "\n",
    "* Видит разницу в \"форме\" распределения, а не только в средних"
   ]
  },
  {
   "cell_type": "code",
   "execution_count": 19,
   "id": "e3906251-c386-40ec-beef-6bed307db34c",
   "metadata": {},
   "outputs": [
    {
     "data": {
      "text/plain": [
       "<Axes: xlabel='ctr', ylabel='Count'>"
      ]
     },
     "execution_count": 19,
     "metadata": {},
     "output_type": "execute_result"
    },
    {
     "data": {
      "image/png": "[encoded data removed]",
      "text/plain": [
       "<Figure size 432x288 with 1 Axes>"
      ]
     },
     "metadata": {
      "needs_background": "light"
     },
     "output_type": "display_data"
    }
   ],
   "source": [
    "def get_smothed_ctr(user_likes, user_views, global_ctr, alpha):\n",
    "    smothed_ctr = (user_likes + alpha * global_ctr) / (user_views + alpha)\n",
    "    return smothed_ctr\n",
    "\n",
    "q = \"\"\"\n",
    "SELECT exp_group, \n",
    "    user_id,\n",
    "    sum(action = 'like') as likes,\n",
    "    sum(action = 'view') as views,\n",
    "    likes/views as ctr\n",
    "FROM {db}.feed_actions \n",
    "WHERE toDate(time) between '2025-09-02' and '2025-09-08'\n",
    "    and exp_group in (1,2)\n",
    "GROUP BY exp_group, user_id\n",
    "\"\"\"\n",
    "\n",
    "df = pandahouse.read_clickhouse(q, connection=connection)\n",
    "\n",
    "global_ctr_1 = df[df.exp_group == 1].likes.sum()/df[df.exp_group == 1].views.sum()\n",
    "global_ctr_2 = df[df.exp_group == 2].likes.sum()/df[df.exp_group == 2].views.sum()\n",
    "\n",
    "group1 = df[df.exp_group == 1].copy()\n",
    "sns. histplot(group1.ctr, \n",
    "             kde = False)\n"
   ]
  },
  {
   "cell_type": "code",
   "execution_count": 20,
   "id": "7139155d-b4ef-47ea-bed2-f442ae27b145",
   "metadata": {},
   "outputs": [
    {
     "data": {
      "text/plain": [
       "<Axes: xlabel='smothed_ctr', ylabel='Count'>"
      ]
     },
     "execution_count": 20,
     "metadata": {},
     "output_type": "execute_result"
    },
    {
     "data": {
      "image/png": "[encoded data removed]",
      "text/plain": [
       "<Figure size 432x288 with 1 Axes>"
      ]
     },
     "metadata": {
      "needs_background": "light"
     },
     "output_type": "display_data"
    }
   ],
   "source": [
    "group1['smothed_ctr'] = df.apply(\n",
    "    lambda x: get_smothed_ctr(x['likes'], x['views'], global_ctr_1, 5), axis=1)\n",
    "\n",
    "sns.histplot(group1.smothed_ctr, \n",
    "             kde = False)"
   ]
  },
  {
   "cell_type": "code",
   "execution_count": 21,
   "id": "44994f4c-8a23-43d5-9f94-1f72c792ec49",
   "metadata": {},
   "outputs": [
    {
     "data": {
      "text/plain": [
       "<Axes: xlabel='ctr', ylabel='Count'>"
      ]
     },
     "execution_count": 21,
     "metadata": {},
     "output_type": "execute_result"
    },
    {
     "data": {
      "image/png": "[encoded data removed]",
      "text/plain": [
       "<Figure size 432x288 with 1 Axes>"
      ]
     },
     "metadata": {
      "needs_background": "light"
     },
     "output_type": "display_data"
    }
   ],
   "source": [
    "group2 = df[df.exp_group == 2].copy()\n",
    "sns. histplot(group2.ctr, \n",
    "             kde = False)"
   ]
  },
  {
   "cell_type": "code",
   "execution_count": 24,
   "id": "4bde9c11-59d2-4f7a-b581-f77c6a9c248a",
   "metadata": {},
   "outputs": [
    {
     "data": {
      "text/plain": [
       "<Axes: xlabel='smothed_ctr', ylabel='Count'>"
      ]
     },
     "execution_count": 24,
     "metadata": {},
     "output_type": "execute_result"
    },
    {
     "data": {
      "image/png": "[encoded data removed]",
      "text/plain": [
       "<Figure size 432x288 with 1 Axes>"
      ]
     },
     "metadata": {
      "needs_background": "light"
     },
     "output_type": "display_data"
    }
   ],
   "source": [
    "group2['smothed_ctr'] = df.apply(\n",
    "    lambda x: get_smothed_ctr(x['likes'], x['views'], global_ctr_2, 5), axis=1)\n",
    "\n",
    "sns.histplot(group2.smothed_ctr, \n",
    "             kde = False)"
   ]
  },
  {
   "cell_type": "code",
   "execution_count": 25,
   "id": "7fe91d52-b15b-462b-8aa9-95f747cfd5d4",
   "metadata": {},
   "outputs": [
    {
     "name": "stdout",
     "output_type": "stream",
     "text": [
      "T-student result: statistic = 1.9460491517027683, p-value=0.05166679015318526\n",
      "Mann-Whitney result: statistic=55528353.0, p-value=2.396534039374286e-50\n"
     ]
    }
   ],
   "source": [
    "# T-тест Стьюдента\n",
    "t_stat, p_value = stats.ttest_ind(group1.smothed_ctr, \n",
    "                                 group2.smothed_ctr, \n",
    "                                 equal_var=False)\n",
    "print(f\"T-student result: statistic = {t_stat}, p-value={p_value}\")\n",
    "\n",
    "# Тест Манна-Уитни\n",
    "mw_stat, mw_pvalue = stats.mannwhitneyu(group1.smothed_ctr, \n",
    "                                       group2.smothed_ctr,\n",
    "                                       alternative='two-sided')\n",
    "print(f\"Mann-Whitney result: statistic={mw_stat:}, p-value={mw_pvalue}\")"
   ]
  },
  {
   "cell_type": "markdown",
   "id": "f5297b35-9ac0-41a8-984d-b2f03b57a27a",
   "metadata": {},
   "source": [
    "#### **После сглаживания оба теста стали значимыми. Это говорит о том, что:**\n",
    "\n",
    "* Разница реально существует между группами. Хоть и p-value при Стьюдента не такой маленький, как при Манна-Уитни - он стал гораздо меньше, и почти прокрасился.\n",
    "\n",
    "* Проблема была в шуме и выбросах в исходных данных\n",
    "\n",
    "* Сглаживание помогло \"очистить\" сигнал"
   ]
  },
  {
   "cell_type": "code",
   "execution_count": 62,
   "id": "046cb451-79fa-40f5-b57d-5dd7b46a3ed7",
   "metadata": {},
   "outputs": [
    {
     "data": {
      "text/plain": [
       "<Axes: ylabel='Count'>"
      ]
     },
     "execution_count": 62,
     "metadata": {},
     "output_type": "execute_result"
    },
    {
     "data": {
      "image/png": "[encoded data removed]",
      "text/plain": [
       "<Figure size 842.4x595.44 with 1 Axes>"
      ]
     },
     "metadata": {},
     "output_type": "display_data"
    }
   ],
   "source": [
    "def bootstrap(likes1, views1, likes2, views2, n_bootstrap=2000):\n",
    "\n",
    "    poisson_bootstraps1 = stats.poisson(1).rvs(\n",
    "        (n_bootstrap, len(likes1))).astype(np.int64)\n",
    "\n",
    "    poisson_bootstraps2 = stats.poisson(1).rvs(\n",
    "            (n_bootstrap, len(likes2))).astype(np.int64)\n",
    "    \n",
    "    globalCTR1 = (poisson_bootstraps1*likes1).sum(axis=1)/(poisson_bootstraps1*views1).sum(axis=1)\n",
    "    \n",
    "    globalCTR2 = (poisson_bootstraps2*likes2).sum(axis=1)/(poisson_bootstraps2*views2).sum(axis=1)\n",
    "\n",
    "    return globalCTR1, globalCTR2\n",
    "\n",
    "\n",
    "q = \"\"\"\n",
    "SELECT exp_group, \n",
    "    user_id,\n",
    "    sum(action = 'like') as likes,\n",
    "    sum(action = 'view') as views,\n",
    "    likes/views as ctr\n",
    "FROM {db}.feed_actions \n",
    "WHERE toDate(time) between '2025-09-02' and '2025-09-08'\n",
    "    and exp_group in (1,2)\n",
    "GROUP BY exp_group, user_id\n",
    "\"\"\"\n",
    "\n",
    "\n",
    "df = pandahouse.read_clickhouse(q, connection=connection)\n",
    "\n",
    "likes1 = df[df.exp_group == 1].likes.to_numpy()\n",
    "views1 = df[df.exp_group == 1].views.to_numpy()\n",
    "likes2 = df[df.exp_group == 2].likes.to_numpy()\n",
    "views2 = df[df.exp_group == 2].views.to_numpy()\n",
    "\n",
    "ctr1, ctr2 = bootstrap(likes1, views1, likes2, views2)\n",
    "\n",
    "sns.histplot(ctr1)\n",
    "sns.histplot(ctr2)"
   ]
  },
  {
   "cell_type": "code",
   "execution_count": 63,
   "id": "a97bf15f-79cf-41a8-a0b8-bbf0c789dc19",
   "metadata": {},
   "outputs": [
    {
     "data": {
      "text/plain": [
       "<Axes: ylabel='Count'>"
      ]
     },
     "execution_count": 63,
     "metadata": {},
     "output_type": "execute_result"
    },
    {
     "data": {
      "image/png": "[encoded data removed]",
      "text/plain": [
       "<Figure size 842.4x595.44 with 1 Axes>"
      ]
     },
     "metadata": {},
     "output_type": "display_data"
    }
   ],
   "source": [
    "#Разница между глобальными CTR\n",
    "\n",
    "sns.histplot(ctr1 - ctr2)"
   ]
  },
  {
   "cell_type": "markdown",
   "id": "574a47aa-f749-41e7-8123-d3935b90f87a",
   "metadata": {},
   "source": [
    "#### **Выводы**:\n",
    "* Распределения не пересекаются - значит, различия точно есть.\n",
    "* Разница между распределениями не пересекают ноль."
   ]
  },
  {
   "cell_type": "code",
   "execution_count": 64,
   "id": "d0c7d65e-2010-4b6d-bbf5-fc5dab8534a3",
   "metadata": {},
   "outputs": [
    {
     "data": {
      "text/plain": [
       "MannwhitneyuResult(statistic=1997.0, pvalue=2.6576427804010095e-07)"
      ]
     },
     "execution_count": 64,
     "metadata": {},
     "output_type": "execute_result"
    }
   ],
   "source": [
    "q = \"\"\"\n",
    "\n",
    "SELECT exp_group, bucket,\n",
    "    sum(likes)/sum(views) as bucket_ctr,\n",
    "    quantileExact(0.9)(ctr) as ctr9\n",
    "FROM (SELECT exp_group, \n",
    "        xxHash64(user_id)%50 as bucket,\n",
    "        user_id,\n",
    "        sum(action = 'like') as likes,\n",
    "        sum(action = 'view') as views,\n",
    "        likes/views as ctr\n",
    "    FROM {db}.feed_actions \n",
    "    WHERE toDate(time) between '2025-09-02' and '2025-09-08'\n",
    "        and exp_group in (1,2)\n",
    "    GROUP BY exp_group, bucket, user_id)\n",
    "GROUP BY exp_group, bucket\n",
    "\"\"\"\n",
    "\n",
    "df = pandahouse.read_clickhouse(q, connection=connection)\n",
    "\n",
    "#тест Манна-Уитни видит отличие\n",
    "stats.mannwhitneyu(df[df.exp_group == 1].bucket_ctr, \n",
    "                   df[df.exp_group == 2].bucket_ctr, \n",
    "                   alternative = 'two-sided')"
   ]
  },
  {
   "cell_type": "code",
   "execution_count": 65,
   "id": "531284fa-416c-4f16-91ff-6a7b6ec8fa0a",
   "metadata": {},
   "outputs": [
    {
     "data": {
      "text/plain": [
       "Ttest_indResult(statistic=5.614819358149381, pvalue=4.592644937473873e-07)"
      ]
     },
     "execution_count": 65,
     "metadata": {},
     "output_type": "execute_result"
    }
   ],
   "source": [
    "#Т-тест Стьюдента также видит отличие\n",
    "stats.ttest_ind(df[df.exp_group == 1].bucket_ctr, \n",
    "                   df[df.exp_group == 2].bucket_ctr, \n",
    "                   equal_var = False)"
   ]
  },
  {
   "cell_type": "markdown",
   "id": "068a903e-da78-4a63-89e1-1bfdb222ac0c",
   "metadata": {},
   "source": [
    "#### **Результаты**:\n",
    "Бакетное преобразование также показал различия между группами. "
   ]
  },
  {
   "cell_type": "code",
   "execution_count": 71,
   "id": "91eda03b-20c2-4c6e-9e8f-e5bc3c5f7f4f",
   "metadata": {},
   "outputs": [
    {
     "data": {
      "text/plain": [
       "<Axes: xlabel='bucket_ctr', ylabel='Count'>"
      ]
     },
     "execution_count": 71,
     "metadata": {},
     "output_type": "execute_result"
    },
    {
     "data": {
      "image/png": "[encoded data removed]",
      "text/plain": [
       "<Figure size 842.4x595.44 with 1 Axes>"
      ]
     },
     "metadata": {},
     "output_type": "display_data"
    }
   ],
   "source": [
    "sns.histplot(df[df.exp_group == 1].bucket_ctr)"
   ]
  },
  {
   "cell_type": "code",
   "execution_count": 69,
   "id": "323c4a14-d44d-4f09-bd00-0c7aada51beb",
   "metadata": {},
   "outputs": [
    {
     "data": {
      "text/plain": [
       "<Axes: xlabel='ctr9', ylabel='Count'>"
      ]
     },
     "execution_count": 69,
     "metadata": {},
     "output_type": "execute_result"
    },
    {
     "data": {
      "image/png": "[encoded data removed]",
      "text/plain": [
       "<Figure size 842.4x595.44 with 1 Axes>"
      ]
     },
     "metadata": {},
     "output_type": "display_data"
    }
   ],
   "source": [
    "sns.histplot(df[df.exp_group == 2].ctr9)"
   ]
  },
  {
   "cell_type": "markdown",
   "id": "2fb34c4f-18f4-42f9-b647-9b48310ad446",
   "metadata": {
    "tags": []
   },
   "source": [
    "## 🔍 Интерпретация результатов\n",
    "\n",
    "### Почему алгоритм стал лучше, возможные сценарии.\n",
    "\n",
    "> * **Алгоритм стал лучше подбирать релевантный контент.**\n",
    "> * **Такая ситуация вполне ожидаема при успешной оптимизации рекомендательной модели.**\n",
    "> * **Пользователи чаще лайкают, потому что видят то, что им реально интересно.**\n",
    "> * **Алгоритм может сместить баланс в пользу «вирального» контента.** \n",
    "> * **Лента может чаще показывать развлекательные посты или короткий контент, который проще лайкнуть.** \n",
    "> * **В итоге CTR растёт, но это не обязательно значит, что пользователи проводят больше времени или глубже вовлекаются.**\n",
    "\n",
    "\n",
    "## 📈 Рекомендации:\n",
    "\n",
    "### 🟢 **Раскатывать новый алгоритм на всех пользователей**\n",
    "\n",
    "**Новый алгоритм (группа 2) стоит раскатывать на всех пользователей.\n",
    "Ожидается стабильное увеличение CTR.\n",
    "Однако рекомендуется дополнительно мониторить метрики вовлеченности (удержание, глубину просмотра, время в ленте), чтобы убедиться, что рост CTR не сопровождается негативными эффектами.**"
   ]
  },
  {
   "cell_type": "code",
   "execution_count": 87,
   "id": "3910e471-1e82-4c04-b280-f1112d2e715b",
   "metadata": {},
   "outputs": [
    {
     "data": {
      "text/plain": [
       "0.21"
      ]
     },
     "execution_count": 87,
     "metadata": {},
     "output_type": "execute_result"
    }
   ],
   "source": [
    "ctr_control = df[df.exp_group.isin([0,1])].likes.sum() / df[df.exp_group.isin([0,1])].views.sum()\n",
    "round(ctr_control, 2)"
   ]
  },
  {
   "cell_type": "code",
   "execution_count": null,
   "id": "bfc89bc6-c081-4f3d-a98c-3d31593d6f23",
   "metadata": {},
   "outputs": [],
   "source": []
  }
 ],
 "metadata": {
  "kernelspec": {
   "display_name": "Python 3 (ipykernel)",
   "language": "python",
   "name": "python3"
  },
  "language_info": {
   "codemirror_mode": {
    "name": "ipython",
    "version": 3
   },
   "file_extension": ".py",
   "mimetype": "text/x-python",
   "name": "python",
   "nbconvert_exporter": "python",
   "pygments_lexer": "ipython3",
   "version": "3.8.10"
  }
 },
 "nbformat": 4,
 "nbformat_minor": 5
}
